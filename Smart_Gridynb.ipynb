{
  "nbformat": 4,
  "nbformat_minor": 0,
  "metadata": {
    "colab": {
      "provenance": [],
      "gpuType": "T4",
      "mount_file_id": "1t6j112rO4zeOEMamkarM7Tvz68BgeqH7",
      "authorship_tag": "ABX9TyNRpBv0Ae5aVpcrflACZ83V",
      "include_colab_link": true
    },
    "kernelspec": {
      "name": "python3",
      "display_name": "Python 3"
    },
    "language_info": {
      "name": "python"
    },
    "accelerator": "GPU"
  },
  "cells": [
    {
      "cell_type": "markdown",
      "metadata": {
        "id": "view-in-github",
        "colab_type": "text"
      },
      "source": [
        "<a href=\"https://colab.research.google.com/github/ThatAvgGuy/MLPC/blob/main/Smart_Gridynb.ipynb\" target=\"_parent\"><img src=\"https://colab.research.google.com/assets/colab-badge.svg\" alt=\"Open In Colab\"/></a>"
      ]
    },
    {
      "cell_type": "code",
      "source": [
        "!pip install pygad\n"
      ],
      "metadata": {
        "colab": {
          "base_uri": "https://localhost:8080/"
        },
        "id": "RtXB-YwRWpDC",
        "outputId": "8c01c09c-91ee-4ae5-8dd5-ff593aefb873"
      },
      "execution_count": null,
      "outputs": [
        {
          "output_type": "stream",
          "name": "stdout",
          "text": [
            "Requirement already satisfied: pygad in /usr/local/lib/python3.11/dist-packages (3.5.0)\n",
            "Requirement already satisfied: cloudpickle in /usr/local/lib/python3.11/dist-packages (from pygad) (3.1.1)\n",
            "Requirement already satisfied: matplotlib in /usr/local/lib/python3.11/dist-packages (from pygad) (3.10.0)\n",
            "Requirement already satisfied: numpy in /usr/local/lib/python3.11/dist-packages (from pygad) (2.0.2)\n",
            "Requirement already satisfied: contourpy>=1.0.1 in /usr/local/lib/python3.11/dist-packages (from matplotlib->pygad) (1.3.2)\n",
            "Requirement already satisfied: cycler>=0.10 in /usr/local/lib/python3.11/dist-packages (from matplotlib->pygad) (0.12.1)\n",
            "Requirement already satisfied: fonttools>=4.22.0 in /usr/local/lib/python3.11/dist-packages (from matplotlib->pygad) (4.59.0)\n",
            "Requirement already satisfied: kiwisolver>=1.3.1 in /usr/local/lib/python3.11/dist-packages (from matplotlib->pygad) (1.4.8)\n",
            "Requirement already satisfied: packaging>=20.0 in /usr/local/lib/python3.11/dist-packages (from matplotlib->pygad) (25.0)\n",
            "Requirement already satisfied: pillow>=8 in /usr/local/lib/python3.11/dist-packages (from matplotlib->pygad) (11.3.0)\n",
            "Requirement already satisfied: pyparsing>=2.3.1 in /usr/local/lib/python3.11/dist-packages (from matplotlib->pygad) (3.2.3)\n",
            "Requirement already satisfied: python-dateutil>=2.7 in /usr/local/lib/python3.11/dist-packages (from matplotlib->pygad) (2.9.0.post0)\n",
            "Requirement already satisfied: six>=1.5 in /usr/local/lib/python3.11/dist-packages (from python-dateutil>=2.7->matplotlib->pygad) (1.17.0)\n"
          ]
        }
      ]
    },
    {
      "cell_type": "code",
      "source": [
        "import numpy as np\n",
        "import pandas as pd\n",
        "import matplotlib.pyplot as plt\n",
        "import torch\n",
        "import pygad\n",
        "import time\n"
      ],
      "metadata": {
        "id": "PhfewifHWtHD"
      },
      "execution_count": null,
      "outputs": []
    },
    {
      "cell_type": "code",
      "source": [
        "# Update path to match your file location\n",
        "csv_path = \"/content/synthetic_smartgrid_data.csv\"\n",
        "df_raw = pd.read_csv(csv_path)\n",
        "\n",
        "num_nodes = 10\n",
        "num_sources = 3\n",
        "num_hours = 24\n",
        "\n",
        "# Demand matrix: shape (nodes x hours)\n",
        "demand_np = df_raw[[f\"N{i+1}_Demand\" for i in range(num_nodes)]].T.to_numpy()\n",
        "\n",
        "# Simulated dynamic cost: shape (sources x nodes x hours)\n",
        "cost_np = np.zeros((num_sources, num_nodes, num_hours))\n",
        "base_costs = [0.2, 0.4, 0.3]  # Solar, Wind, Hydro\n",
        "\n",
        "for s in range(num_sources):\n",
        "    fluctuation = np.random.uniform(-0.05, 0.05, (num_nodes, num_hours))\n",
        "    cost_np[s] = base_costs[s] + fluctuation\n",
        "\n",
        "# Capacity: sources x hours\n",
        "capacity_np = df_raw[[\"S1_Solar\", \"S2_Wind\", \"S3_Hydro\"]].T.to_numpy()\n",
        "\n",
        "# Transmission loss between each source-node pair\n",
        "loss_np = np.random.uniform(0.05, 0.15, (num_sources, num_nodes))\n"
      ],
      "metadata": {
        "id": "heR0jPsDWv36"
      },
      "execution_count": null,
      "outputs": []
    },
    {
      "cell_type": "code",
      "source": [
        "POP_SIZE = 50\n",
        "NUM_GENERATIONS = 40\n",
        "CHROMOSOME_LENGTH = num_sources * num_nodes * num_hours\n",
        "MUTATION_PCT = 8\n",
        "device = torch.device(\"cuda\" if torch.cuda.is_available() else \"cpu\")\n"
      ],
      "metadata": {
        "id": "Sz1E8_vgWyF6"
      },
      "execution_count": null,
      "outputs": []
    },
    {
      "cell_type": "code",
      "source": [
        "def fitness_cpu(chrom):\n",
        "    energy = chrom.reshape(num_sources, num_nodes, num_hours)\n",
        "    cost = np.sum(energy * cost_np)\n",
        "    loss = np.sum(energy * loss_np[:, :, None])\n",
        "    supplied = np.sum(energy * (1 - loss_np[:, :, None]), axis=0)\n",
        "    demand_gap = demand_np - supplied\n",
        "    demand_penalty = np.sum(np.square(np.clip(demand_gap, 0, None)))\n",
        "    usage = np.sum(energy, axis=1)\n",
        "    over_capacity = np.clip(usage - capacity_np, 0, None)\n",
        "    capacity_penalty = np.sum(over_capacity)\n",
        "    return cost + loss + demand_penalty + 10 * capacity_penalty\n"
      ],
      "metadata": {
        "id": "dl0yb5_YWz1t"
      },
      "execution_count": null,
      "outputs": []
    },
    {
      "cell_type": "code",
      "source": [
        "def fitness_torch(chrom_tensor):\n",
        "    energy = chrom_tensor.view(num_sources, num_nodes, num_hours)\n",
        "    cost_tensor = torch.tensor(cost_np, dtype=torch.float32, device=device)\n",
        "    loss_tensor = torch.tensor(loss_np, dtype=torch.float32, device=device)\n",
        "    demand_tensor = torch.tensor(demand_np, dtype=torch.float32, device=device)\n",
        "    capacity_tensor = torch.tensor(capacity_np, dtype=torch.float32, device=device)\n",
        "\n",
        "    cost = torch.sum(energy * cost_tensor)\n",
        "    loss = torch.sum(energy * loss_tensor[:, :, None])\n",
        "    supplied = torch.sum(energy * (1 - loss_tensor[:, :, None]), dim=0)\n",
        "    demand_gap = demand_tensor - supplied\n",
        "    demand_penalty = torch.sum(torch.square(torch.clamp(demand_gap, min=0)))\n",
        "    usage = torch.sum(energy, dim=1)\n",
        "    over_capacity = torch.clamp(usage - capacity_tensor, min=0)\n",
        "    capacity_penalty = torch.sum(over_capacity)\n",
        "    return cost + loss + demand_penalty + 10 * capacity_penalty\n"
      ],
      "metadata": {
        "id": "mKilF6bFW1k3"
      },
      "execution_count": null,
      "outputs": []
    },
    {
      "cell_type": "code",
      "source": [
        "def pygad_fitness(ga_instance, solution, solution_idx):\n",
        "    return -fitness_cpu(solution)\n",
        "\n",
        "start_cpu = time.time()\n",
        "ga_instance = pygad.GA(\n",
        "    num_generations=NUM_GENERATIONS,\n",
        "    num_parents_mating=10,\n",
        "    fitness_func=pygad_fitness,\n",
        "    sol_per_pop=POP_SIZE,\n",
        "    num_genes=CHROMOSOME_LENGTH,\n",
        "    gene_space={'low': 1.0, 'high': 8.0},\n",
        "    mutation_percent_genes=MUTATION_PCT,\n",
        "    parent_selection_type=\"rws\",\n",
        "    crossover_type=\"single_point\",\n",
        "    mutation_type=\"random\",\n",
        "    stop_criteria=[\"reach_0.01\"]\n",
        ")\n",
        "ga_instance.run()\n",
        "end_cpu = time.time()\n",
        "cpu_time = end_cpu - start_cpu\n",
        "fitness_curve_cpu = [-f for f in ga_instance.best_solutions_fitness]\n"
      ],
      "metadata": {
        "id": "Ed_Ogoa7W3DD"
      },
      "execution_count": null,
      "outputs": []
    },
    {
      "cell_type": "code",
      "source": [
        "def run_pytorch_ga():\n",
        "    population = [torch.rand(CHROMOSOME_LENGTH, device=device) * 10 for _ in range(POP_SIZE)]\n",
        "    fitness_curve = []\n",
        "\n",
        "    for gen in range(NUM_GENERATIONS):\n",
        "        fitness_scores = [fitness_torch(ind) for ind in population]\n",
        "        best_fitness = min(f.item() for f in fitness_scores)\n",
        "        fitness_curve.append(best_fitness)\n",
        "\n",
        "        new_population = []\n",
        "        for _ in range(POP_SIZE // 2):\n",
        "            idx = np.random.choice(len(population), 2, replace=False)\n",
        "            p1, p2 = population[idx[0]], population[idx[1]]\n",
        "            point = np.random.randint(1, CHROMOSOME_LENGTH - 1)\n",
        "            c1 = torch.cat([p1[:point], p2[point:]])\n",
        "            c2 = torch.cat([p2[:point], p1[point:]])\n",
        "            for c in [c1, c2]:\n",
        "                mutation_mask = torch.rand(CHROMOSOME_LENGTH, device=device) < 0.08\n",
        "                c[mutation_mask] = torch.rand(torch.sum(mutation_mask), device=device) * 10\n",
        "                new_population.append(c)\n",
        "\n",
        "        population = new_population\n",
        "\n",
        "    return fitness_curve\n",
        "\n",
        "start_gpu = time.time()\n",
        "fitness_curve_gpu = run_pytorch_ga()\n",
        "torch.cuda.synchronize()\n",
        "end_gpu = time.time()\n",
        "gpu_time = end_gpu - start_gpu\n"
      ],
      "metadata": {
        "id": "0ib6VyLYW44m",
        "colab": {
          "base_uri": "https://localhost:8080/",
          "height": 356
        },
        "outputId": "486f6643-a8d6-47c0-bbc1-e93941b17a0f"
      },
      "execution_count": null,
      "outputs": [
        {
          "output_type": "error",
          "ename": "RuntimeError",
          "evalue": "Found no NVIDIA driver on your system. Please check that you have an NVIDIA GPU and installed a driver from http://www.nvidia.com/Download/index.aspx",
          "traceback": [
            "\u001b[0;31m---------------------------------------------------------------------------\u001b[0m",
            "\u001b[0;31mRuntimeError\u001b[0m                              Traceback (most recent call last)",
            "\u001b[0;32m/tmp/ipython-input-19-3054886593.py\u001b[0m in \u001b[0;36m<cell line: 0>\u001b[0;34m()\u001b[0m\n\u001b[1;32m     26\u001b[0m \u001b[0mstart_gpu\u001b[0m \u001b[0;34m=\u001b[0m \u001b[0mtime\u001b[0m\u001b[0;34m.\u001b[0m\u001b[0mtime\u001b[0m\u001b[0;34m(\u001b[0m\u001b[0;34m)\u001b[0m\u001b[0;34m\u001b[0m\u001b[0;34m\u001b[0m\u001b[0m\n\u001b[1;32m     27\u001b[0m \u001b[0mfitness_curve_gpu\u001b[0m \u001b[0;34m=\u001b[0m \u001b[0mrun_pytorch_ga\u001b[0m\u001b[0;34m(\u001b[0m\u001b[0;34m)\u001b[0m\u001b[0;34m\u001b[0m\u001b[0;34m\u001b[0m\u001b[0m\n\u001b[0;32m---> 28\u001b[0;31m \u001b[0mtorch\u001b[0m\u001b[0;34m.\u001b[0m\u001b[0mcuda\u001b[0m\u001b[0;34m.\u001b[0m\u001b[0msynchronize\u001b[0m\u001b[0;34m(\u001b[0m\u001b[0;34m)\u001b[0m\u001b[0;34m\u001b[0m\u001b[0;34m\u001b[0m\u001b[0m\n\u001b[0m\u001b[1;32m     29\u001b[0m \u001b[0mend_gpu\u001b[0m \u001b[0;34m=\u001b[0m \u001b[0mtime\u001b[0m\u001b[0;34m.\u001b[0m\u001b[0mtime\u001b[0m\u001b[0;34m(\u001b[0m\u001b[0;34m)\u001b[0m\u001b[0;34m\u001b[0m\u001b[0;34m\u001b[0m\u001b[0m\n\u001b[1;32m     30\u001b[0m \u001b[0mgpu_time\u001b[0m \u001b[0;34m=\u001b[0m \u001b[0mend_gpu\u001b[0m \u001b[0;34m-\u001b[0m \u001b[0mstart_gpu\u001b[0m\u001b[0;34m\u001b[0m\u001b[0;34m\u001b[0m\u001b[0m\n",
            "\u001b[0;32m/usr/local/lib/python3.11/dist-packages/torch/cuda/__init__.py\u001b[0m in \u001b[0;36msynchronize\u001b[0;34m(device)\u001b[0m\n\u001b[1;32m    981\u001b[0m             \u001b[0;32mif\u001b[0m \u001b[0;34m:\u001b[0m\u001b[0mattr\u001b[0m\u001b[0;34m:\u001b[0m\u001b[0;31m`\u001b[0m\u001b[0mdevice\u001b[0m\u001b[0;31m`\u001b[0m \u001b[0;32mis\u001b[0m\u001b[0;31m \u001b[0m\u001b[0;31m`\u001b[0m\u001b[0;31m`\u001b[0m\u001b[0;32mNone\u001b[0m\u001b[0;31m`\u001b[0m\u001b[0;31m`\u001b[0m \u001b[0;34m(\u001b[0m\u001b[0mdefault\u001b[0m\u001b[0;34m)\u001b[0m\u001b[0;34m.\u001b[0m\u001b[0;34m\u001b[0m\u001b[0;34m\u001b[0m\u001b[0m\n\u001b[1;32m    982\u001b[0m     \"\"\"\n\u001b[0;32m--> 983\u001b[0;31m     \u001b[0m_lazy_init\u001b[0m\u001b[0;34m(\u001b[0m\u001b[0;34m)\u001b[0m\u001b[0;34m\u001b[0m\u001b[0;34m\u001b[0m\u001b[0m\n\u001b[0m\u001b[1;32m    984\u001b[0m     \u001b[0;32mwith\u001b[0m \u001b[0mtorch\u001b[0m\u001b[0;34m.\u001b[0m\u001b[0mcuda\u001b[0m\u001b[0;34m.\u001b[0m\u001b[0mdevice\u001b[0m\u001b[0;34m(\u001b[0m\u001b[0mdevice\u001b[0m\u001b[0;34m)\u001b[0m\u001b[0;34m:\u001b[0m\u001b[0;34m\u001b[0m\u001b[0;34m\u001b[0m\u001b[0m\n\u001b[1;32m    985\u001b[0m         \u001b[0;32mreturn\u001b[0m \u001b[0mtorch\u001b[0m\u001b[0;34m.\u001b[0m\u001b[0m_C\u001b[0m\u001b[0;34m.\u001b[0m\u001b[0m_cuda_synchronize\u001b[0m\u001b[0;34m(\u001b[0m\u001b[0;34m)\u001b[0m\u001b[0;34m\u001b[0m\u001b[0;34m\u001b[0m\u001b[0m\n",
            "\u001b[0;32m/usr/local/lib/python3.11/dist-packages/torch/cuda/__init__.py\u001b[0m in \u001b[0;36m_lazy_init\u001b[0;34m()\u001b[0m\n\u001b[1;32m    317\u001b[0m         \u001b[0;32mif\u001b[0m \u001b[0;34m\"CUDA_MODULE_LOADING\"\u001b[0m \u001b[0;32mnot\u001b[0m \u001b[0;32min\u001b[0m \u001b[0mos\u001b[0m\u001b[0;34m.\u001b[0m\u001b[0menviron\u001b[0m\u001b[0;34m:\u001b[0m\u001b[0;34m\u001b[0m\u001b[0;34m\u001b[0m\u001b[0m\n\u001b[1;32m    318\u001b[0m             \u001b[0mos\u001b[0m\u001b[0;34m.\u001b[0m\u001b[0menviron\u001b[0m\u001b[0;34m[\u001b[0m\u001b[0;34m\"CUDA_MODULE_LOADING\"\u001b[0m\u001b[0;34m]\u001b[0m \u001b[0;34m=\u001b[0m \u001b[0;34m\"LAZY\"\u001b[0m\u001b[0;34m\u001b[0m\u001b[0;34m\u001b[0m\u001b[0m\n\u001b[0;32m--> 319\u001b[0;31m         \u001b[0mtorch\u001b[0m\u001b[0;34m.\u001b[0m\u001b[0m_C\u001b[0m\u001b[0;34m.\u001b[0m\u001b[0m_cuda_init\u001b[0m\u001b[0;34m(\u001b[0m\u001b[0;34m)\u001b[0m\u001b[0;34m\u001b[0m\u001b[0;34m\u001b[0m\u001b[0m\n\u001b[0m\u001b[1;32m    320\u001b[0m         \u001b[0;31m# Some of the queued calls may reentrantly call _lazy_init();\u001b[0m\u001b[0;34m\u001b[0m\u001b[0;34m\u001b[0m\u001b[0m\n\u001b[1;32m    321\u001b[0m         \u001b[0;31m# we need to just return without initializing in that case.\u001b[0m\u001b[0;34m\u001b[0m\u001b[0;34m\u001b[0m\u001b[0m\n",
            "\u001b[0;31mRuntimeError\u001b[0m: Found no NVIDIA driver on your system. Please check that you have an NVIDIA GPU and installed a driver from http://www.nvidia.com/Download/index.aspx"
          ]
        }
      ]
    },
    {
      "cell_type": "code",
      "source": [
        "def run_greedy():\n",
        "    total_cost = 0\n",
        "    total_loss = 0\n",
        "    demand_penalty = 0\n",
        "    cap_copy = capacity_np.copy()\n",
        "\n",
        "    for h in range(num_hours):\n",
        "        for n in range(num_nodes):\n",
        "            remaining_demand = demand_np[n, h]\n",
        "            effective_costs = [(s, cost_np[s, n, h] / (1 - loss_np[s, n])) for s in range(num_sources)]\n",
        "            effective_costs.sort(key=lambda x: x[1])\n",
        "\n",
        "            for s, _ in effective_costs:\n",
        "                if remaining_demand <= 0:\n",
        "                    break\n",
        "                available = cap_copy[s, h]\n",
        "                deliverable = available * (1 - loss_np[s, n])\n",
        "                to_assign = min(remaining_demand, deliverable)\n",
        "                if to_assign > 0:\n",
        "                    required_energy = to_assign / (1 - loss_np[s, n])\n",
        "                    total_cost += required_energy * cost_np[s, n, h]\n",
        "                    total_loss += required_energy * loss_np[s, n]\n",
        "                    cap_copy[s, h] -= required_energy\n",
        "                    remaining_demand -= to_assign\n",
        "\n",
        "            if remaining_demand > 0:\n",
        "                demand_penalty += remaining_demand ** 2\n",
        "\n",
        "    return total_cost + total_loss + demand_penalty, total_cost, total_loss, demand_penalty\n",
        "\n",
        "start_greedy = time.time()\n",
        "greedy_fit, greedy_cost, greedy_loss, greedy_demand_penalty = run_greedy()\n",
        "end_greedy = time.time()\n",
        "greedy_time = end_greedy - start_greedy\n"
      ],
      "metadata": {
        "id": "V1m3eq_BW8v4"
      },
      "execution_count": null,
      "outputs": []
    },
    {
      "cell_type": "code",
      "source": [
        "plt.figure(figsize=(10, 6))\n",
        "plt.plot(fitness_curve_cpu, label=\"CPU (PyGAD)\", linewidth=2)\n",
        "plt.plot(fitness_curve_gpu, label=\"GPU (PyTorch)\", linewidth=2)\n",
        "plt.hlines(y=greedy_fit, xmin=0, xmax=NUM_GENERATIONS-1, colors='green', linestyles='dashed', label=\"Greedy Baseline\")\n",
        "plt.xlabel(\"Generation\")\n",
        "plt.ylabel(\"Fitness\")\n",
        "plt.title(\"Fitness Comparison: CPU vs GPU vs Greedy\")\n",
        "plt.legend()\n",
        "plt.grid(True)\n",
        "plt.tight_layout()\n",
        "plt.show()\n"
      ],
      "metadata": {
        "id": "K221noGLW-ws"
      },
      "execution_count": null,
      "outputs": []
    },
    {
      "cell_type": "code",
      "source": [
        "plt.figure(figsize=(7, 5))\n",
        "times = [cpu_time, gpu_time, greedy_time]\n",
        "labels = ['CPU (PyGAD)', 'GPU (PyTorch)', 'Greedy']\n",
        "colors = ['skyblue', 'lightcoral', 'limegreen']\n",
        "bars = plt.bar(labels, times, color=colors)\n",
        "plt.ylabel(\"Time (seconds)\")\n",
        "plt.title(\"Execution Time Comparison\")\n",
        "for bar, time_val in zip(bars, times):\n",
        "    plt.text(bar.get_x() + bar.get_width()/2.0, bar.get_height(), f\"{time_val:.2f}s\", ha='center', va='bottom')\n",
        "plt.tight_layout()\n",
        "plt.show()\n"
      ],
      "metadata": {
        "id": "L3bpx4_rXBlp"
      },
      "execution_count": null,
      "outputs": []
    },
    {
      "cell_type": "code",
      "source": [
        "import seaborn as sns\n",
        "import matplotlib.pyplot as plt\n",
        "import pandas as pd\n",
        "import numpy as np\n",
        "\n",
        "# Assuming the following already exist:\n",
        "# - demand_np (shape: num_nodes x num_hours)\n",
        "# - cost_np (shape: num_sources x num_nodes x num_hours)\n",
        "# - loss_np (shape: num_sources x num_nodes)\n",
        "# - capacity_np (shape: num_sources x num_hours)\n",
        "\n",
        "# Parameters\n",
        "num_nodes = demand_np.shape[0]\n",
        "num_hours = demand_np.shape[1]\n",
        "\n",
        "# -----------------------\n",
        "# Build node-hour records\n",
        "# -----------------------\n",
        "records = []\n",
        "\n",
        "for n in range(num_nodes):\n",
        "    for h in range(num_hours):\n",
        "        record = {\n",
        "            \"Node\": n + 1,\n",
        "            \"Hour\": h,\n",
        "            \"Demand\": demand_np[n, h],\n",
        "            \"AvgCost\": np.mean(cost_np[:, n, h]),\n",
        "            \"MinCost\": np.min(cost_np[:, n, h]),\n",
        "            \"MaxCost\": np.max(cost_np[:, n, h]),\n",
        "            \"AvgLoss\": np.mean(loss_np[:, n]),\n",
        "            \"MinLoss\": np.min(loss_np[:, n]),\n",
        "            \"MaxLoss\": np.max(loss_np[:, n]),\n",
        "            \"AvgCapacity\": np.mean(capacity_np[:, h]),\n",
        "            \"TotalCapacity\": np.sum(capacity_np[:, h])\n",
        "        }\n",
        "        records.append(record)\n",
        "\n",
        "# Convert to DataFrame\n",
        "df_corr = pd.DataFrame(records)\n",
        "\n",
        "# -----------------------\n",
        "# Correlation Heatmap\n",
        "# -----------------------\n",
        "corr_matrix = df_corr.drop(columns=[\"Node\", \"Hour\"]).corr()\n",
        "\n",
        "plt.figure(figsize=(10, 8))\n",
        "sns.heatmap(corr_matrix, annot=True, cmap='coolwarm', fmt=\".2f\", square=True)\n",
        "plt.title(\"Correlation Heatmap Between Key Smart Grid Variables\")\n",
        "plt.tight_layout()\n",
        "plt.show()\n"
      ],
      "metadata": {
        "id": "eNPMoXqNXDf-"
      },
      "execution_count": null,
      "outputs": []
    }
  ]
}